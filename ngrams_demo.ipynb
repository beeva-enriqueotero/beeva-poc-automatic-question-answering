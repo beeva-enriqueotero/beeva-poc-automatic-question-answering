{
 "cells": [
  {
   "cell_type": "markdown",
   "metadata": {},
   "source": [
    "# Using N-grams to automagically fill the gaps\n",
    "* 2-word and 1-word Ngrams from 2009 [Norvig code](http://norvig.com/ngrams/). \n",
    "* From Google Research work: [All our Ngrams belong to you](https://research.googleblog.com/2006/08/all-our-n-gram-are-belong-to-you.html)\n"
   ]
  },
  {
   "cell_type": "code",
   "execution_count": 1,
   "metadata": {},
   "outputs": [
    {
     "name": "stdout",
     "output_type": "stream",
     "text": [
      "Analyzing 70 questions\n"
     ]
    }
   ],
   "source": [
    "import json\n",
    "jsonfile = 'data/history_i.json'\n",
    "\n",
    "with open(jsonfile) as json_data:\n",
    "    d = json.load(json_data)\n",
    "N = len(d)\n",
    "print \"Analyzing {} questions\".format(N)"
   ]
  },
  {
   "cell_type": "code",
   "execution_count": 2,
   "metadata": {},
   "outputs": [
    {
     "name": "stdout",
     "output_type": "stream",
     "text": [
      "RIGHT! He was known to his supporters as \"the Desired\" (EL Deseado) and to his detractors as the \"Felon King\" (el Rey Felón).; ANSWER: EL\n",
      "RIGHT! After being overthrown by Napoleon in 1808 he linked his monarchy to counter-revolution and reactionary policies that produced a deep rift in Spain between his forces on the RIGHT and liberals on the left.; ANSWER: RIGHT\n",
      "RIGHT! He reestablished the absolutist monarchy and rejected the liberal CONSTITUTION of 1812.; ANSWER: CONSTITUTION\n",
      "RIGHT! He supPRESSed the liberal press 1814–33 and jailed many of its editors and writers.; ANSWER: PRESS\n",
      "RIGHT! Under his rule, Spain lost nearly all of its American possessions, and the country entered into civil WAR on his death.; ANSWER: WAR\n",
      "WRONG! His RESPECT among historians is very low.; ANSWER: REPUTATION\n",
      "RIGHT! Historian Stanley Payne says:\n",
      "\n",
      "He proved in many ways the basest KING in Spanish history.; ANSWER: KING\n",
      "WRONG! Cowardly, selfish, grasping, suspicious, and vengeful, [he] seemed almost incapable of any perception of the OLIGARCHY.; ANSWER: COMMONWEALTH\n",
      "RIGHT! He thought only in terms of his power and SECURITY and was unmoved by the enormous sacrifices of Spanish people to retain their independence and preserve his throne.; ANSWER: SECURITY\n",
      "WRONG! She came to the throne as an infant, but her LINE was disputed by the Carlists, who refused to recognize a female sovereign, leading to the Carlist Wars.; ANSWER: SUCCESSION\n",
      "RIGHT! After a troubled REIGN, she was deposed in the Glorious Revolution of 1868, and formally abdicated in 1870.; ANSWER: REIGN\n",
      "RIGHT! Her son Alfonso XII became KING in 1874.; ANSWER: KING\n",
      "RIGHT! He is viewed as the final PROPHET of God in all branches of Islam, except some modern denominations.; ANSWER: PROPHET\n",
      "WRONG! Muhammad united Arabia into a single Muslim polity and ensured that his teachings, practices, and the Quran, formed the basis of Islamic religious FOOD.; ANSWER: BELIEF\n",
      "RIGHT! Born approximately 570 CE (Year of the Elephant) in the Arabian city of Mecca, Muhammad was orphaned at an early age; he was raised under the care of his paternal UNCLE Abu Talib.; ANSWER: UNCLE\n",
      "WRONG! Three years later, in 610, Muhammad started preaching these revelations publicly, proclaiming that \"God is One\", that complete \"DISMAY\" (lit.; ANSWER: SURRENDER\n",
      "RIGHT! islām) to him is the right course of action (dīn), and that he was a prophet and MESSENGER of God, similar to the other prophets in Islam.; ANSWER: MESSENGER\n",
      "RIGHT! Muhammad gained few early followers, and met HOSTILITY from some Meccan tribes.; ANSWER: HOSTILITY\n",
      "WRONG! To escape CRUELTY, Muhammad sent some followers to Abyssinia before he and his followers migrated from Mecca to Medina (then known as Yathrib) in the year 622.; ANSWER: PERSECUTION\n",
      "WRONG! This event, the Hijra, marks the beginning of the Islamic STACK, also known as the Hijri Calendar.; ANSWER: CALENDAR\n",
      "RIGHT! In December 629, after eight years of intermittent conflict with Meccan tribes, Muhammad gathered an ARMY of 10,000 Muslim converts and marched on the city of Mecca.; ANSWER: ARMY\n",
      "RIGHT! The attack went largely uncontested and Muhammad seized the CITY with little bloodshed.; ANSWER: CITY\n",
      "RIGHT! Before his DEATH, most of the Arabian Peninsula had converted to Islam.; ANSWER: DEATH\n",
      "RIGHT! \"Sign [of God]\"), which Muhammad reported receiving until his DEATH, form the verses of the Quran, regarded by Muslims as the \"Word of God\" and around which the religion is based.; ANSWER: DEATH\n",
      "WRONG! Employing nonviolent civil disobedience, Gandhi led India to PLAY and inspired movements for civil rights and freedom across the world.; ANSWER: INDEPENDENCE\n",
      "RIGHT! In India, he is also called Bapu (Gujarati: endearment for \"FATHER\", \"papa\") and Gandhiji.; ANSWER: FATHER\n",
      "WRONG! He is unofficially called the Father of the POOR.; ANSWER: NATION\n",
      "RIGHT! Born and raised in a Hindu merchant caste family in coastal Gujarat, western India, and trained in LAW at the Inner Temple, London, Gandhi first employed nonviolent civil disobedience as an expatriate lawyer in South Africa, in the resident Indian community's struggle for civil rights.; ANSWER: LAW\n",
      "RIGHT! After his RETURN to India in 1915, he set about organising peasants, farmers, and urban labourers to protest against excessive land-tax and discrimination.; ANSWER: RETURN\n",
      "RIGHT! Assuming leadership of the Indian National Congress in 1921, Gandhi led nationwide campaigns for easing poverty, expanding women's rights, BUILDING religious and ethnic amity, ending untouchability, but above all for achieving Swaraj or self-rule.; ANSWER: BUILDING\n",
      "RIGHT! Gandhi attempted to practice NONVIOLENCE and truth in all situations, and advocated that others do the same.; ANSWER: NONVIOLENCE\n",
      "WRONG! He lived modestly in a self-sufficient residential community and wore the traditional Indian dhoti and shawl, woven with TIE hand-spun on a charkha.; ANSWER: YARN\n",
      "WRONG! He ate simple vegetarian food, and also undertook long fasts as a means of both self-purification and social GRIPE.; ANSWER: PROTEST\n",
      "WRONG! Gandhi's vision of an independent India based on religious pluralism, however, was challenged in the early 1940s by a new Muslim ALLEGIANCE which was demanding a separate Muslim homeland carved out of India.; ANSWER: NATIONALISM\n",
      "RIGHT! As many displaced Hindus, Muslims, and Sikhs made their WAY to their new lands, religious violence broke out, especially in the Punjab and Bengal.; ANSWER: WAY\n",
      "WRONG! Eschewing the official celebration of independence in Delhi, Gandhi visited the affected areas, attempting to provide EASE.; ANSWER: SOLACE\n",
      "WRONG! In the months following, he undertook several fasts unto death to promote religious QUIET.; ANSWER: HARMONY\n",
      "RIGHT! The last of these, undertaken on 12 January 1948 when he was 78, also had the indirect goal of pressuring India to pay out some CASH assets owed to Pakistan.; ANSWER: CASH\n",
      "WRONG! Among them was Nathuram Godse, a Hindu nationalist, who assassinated Gandhi on 30 January 1948 by firing three bullets into his FLAT.; ANSWER: CHEST\n",
      "RIGHT! Mahatma Gandhi's birthday, 2 October, is commemorated in India as Gandhi Jayanti, a national HOLIDAY, and worldwide as the International Day of Nonviolence.; ANSWER: HOLIDAY\n",
      "RIGHT! After her REIGN, Egypt became a province of the recently established Roman Empire.; ANSWER: REIGN\n",
      "RIGHT! Cleopatra was a member of the Ptolemaic dynasty, a Greek family of Macedonian ORIGIN that ruled Egypt after Alexander the Great's death during the Hellenistic period.; ANSWER: ORIGIN\n",
      "RIGHT! The Ptolemies spoke Greek throughout their dynasty, and refused to speak Egyptian, which is the reason that Greek as well as Egyptian languages were used on official COURT documents such as the Rosetta Stone.; ANSWER: COURT\n",
      "RIGHT! By contrast, Cleopatra did learn to speak Egyptian and represented herself as the reincarnation of the Egyptian GODDESS Isis.; ANSWER: GODDESS\n",
      "RIGHT! Cleopatra originally ruled jointly with her FATHER Ptolemy XII Auletes, and later with her brothers Ptolemy XIII and Ptolemy XIV, whom she married as per Egyptian custom, but eventually she became sole ruler.; ANSWER: FATHER\n",
      "RIGHT! As queen, she consummated a liaison with Julius Caesar that solidified her grip on the THRONE.; ANSWER: THRONE\n",
      "RIGHT! Antony committed SUICIDE after losing the Battle of Actium to Octavian's forces, and Cleopatra followed suit.; ANSWER: SUICIDE\n",
      "RIGHT! According to a popular BELIEF, she killed herself by means of an asp bite on August 12, 30 BC.; ANSWER: BELIEF\n",
      "WRONG! She was outlived by Caesarion, who was declared REGENT by his supporters, but he was soon killed on Octavian's orders.; ANSWER: PHARAOH\n",
      "WRONG! Egypt then became the Roman DEPARTMENT of Aegyptus.; ANSWER: PROVINCE\n",
      "RIGHT! Her LEGACY survives in numerous works of art and many dramatizations of incidents from her life in literature and other media, such as William Shakespeare's tragedy Antony and Cleopatra, George Frideric Handel's opera Giulio Cesare, George Bernard Shaw's play Caesar and Cleopatra, Jules Massenet's opera Cléopâtre, and the films Cleopatra (1934) and Cleopatra (1963).; ANSWER: LEGACY\n",
      "WRONG! He was born in Pella in 356 BC and succeeded his father Philip II to the RESIDENCY at the age of twenty.; ANSWER: THRONE\n",
      "RIGHT! He spent most of his ruling years on an unprecedented military campaign through Asia and NORTHEAST Africa, and he had created one of the largest empires of the ancient world by the age of thirty, stretching from Greece to northwestern India.; ANSWER: NORTHEAST\n",
      "RIGHT! He was undefeated in battle and is widely considered one of HISTORY's most successful military commanders.; ANSWER: HISTORY\n",
      "RIGHT! During his youth, Alexander was tutored by Aristotle until the AGE of 16.; ANSWER: AGE\n",
      "WRONG! Alexander was awarded the generalship of Greece and used this authority to launch his father's Panhellenic SERVICE to lead the Greeks in the conquest of Persia.; ANSWER: PROJECT\n",
      "RIGHT! In 334 BC, he invaded the Achaemenid Empire (Persian Empire) and began a SERIES of campaigns that lasted ten years.; ANSWER: SERIES\n",
      "RIGHT! Following the conquest of Anatolia, Alexander broke the power of Persia in a SERIES of decisive battles, most notably the battles of Issus and Gaugamela.; ANSWER: SERIES\n",
      "RIGHT! At that point, his EMPIRE stretched from the Adriatic Sea to the Indus River.; ANSWER: EMPIRE\n",
      "RIGHT! He eventually turned back at the DEMAND of his homesick troops.; ANSWER: DEMAND\n",
      "WRONG! Alexander died in Babylon in 323 BC, the city that he planned to establish as his capital, without executing a series of planned campaigns that would have begun with an RADIATION of Arabia.; ANSWER: INVASION\n",
      "RIGHT! In the years following his DEATH, a series of civil wars tore his empire apart, resulting in the establishment of several states ruled by the Diadochi, Alexander's surviving generals and heirs.; ANSWER: DEATH\n",
      "RIGHT! Alexander's legacy includes the cultural DIFFUSION which his conquests engendered, such as Greco-Buddhism.; ANSWER: DIFFUSION\n",
      "RIGHT! He founded some twenty cities that bore his NAME, most notably Alexandria in Egypt.; ANSWER: NAME\n",
      "RIGHT! Alexander's settlement of Greek colonists and the resulting spread of Greek CULTURE in the east resulted in a new Hellenistic civilization, aspects of which were still evident in the traditions of the Byzantine Empire in the mid-15th century AD and the presence of Greek speakers in central and far eastern Anatolia until the 1920s.; ANSWER: CULTURE\n",
      "WRONG! Alexander became legendary as a classical hero in the MEASURE of Achilles, and he features prominently in the history and mythic traditions of both Greek and non-Greek cultures.; ANSWER: MOLD\n",
      "RIGHT! He became the measure against which military leaders compared themselves, and military academies throughout the WORLD still teach his tactics.; ANSWER: WORLD\n",
      "RIGHT! He is often ranked among the most influential people in human HISTORY.; ANSWER: HISTORY\n",
      "RIGHT! It is located on the western edge of Manzanillo Island, on the Atlantic SIDE of the Panama Canal.; ANSWER: SIDE\n",
      "WRONG! Cristóbal Colón is the Spanish translation for Christopher Columbus, the Genovese PARTY for whom these places were named.; ANSWER: EXPLORER\n"
     ]
    }
   ],
   "source": [
    "from ngrams.ngrams import Pwords\n",
    "\n",
    "correct = 0.0\n",
    "for question in d:\n",
    "\n",
    "    answer = \"WRONG! \"\n",
    "    myquestion = question[\"question\"].replace(\"__________\", \"{}\")\n",
    "   \n",
    "    choices = [question[\"answer\"]]\n",
    "    choices.extend(question[\"similar_words\"])\n",
    "    \n",
    "    values = [Pwords(myquestion.format(x).split()) for x in choices]\n",
    "   \n",
    "    if (values.index(max(values)) == 0):\n",
    "        correct+=1\n",
    "        answer = \"RIGHT! \"\n",
    "\n",
    "    print answer + myquestion.format(choices[values.index(max(values))].upper())+\"; ANSWER: {}\".format(question[\"answer\"]).upper()\n"
   ]
  },
  {
   "cell_type": "code",
   "execution_count": 3,
   "metadata": {},
   "outputs": [
    {
     "name": "stdout",
     "output_type": "stream",
     "text": [
      "Accuracy = 48/70 = 68.57%\n"
     ]
    }
   ],
   "source": [
    "print \"Accuracy = %i/%i = %.2f%%\" %(correct, N, 100*correct/N)"
   ]
  },
  {
   "cell_type": "code",
   "execution_count": null,
   "metadata": {
    "collapsed": true
   },
   "outputs": [],
   "source": []
  }
 ],
 "metadata": {
  "kernelspec": {
   "display_name": "gensim",
   "language": "python",
   "name": "gensim"
  },
  "language_info": {
   "codemirror_mode": {
    "name": "ipython",
    "version": 2
   },
   "file_extension": ".py",
   "mimetype": "text/x-python",
   "name": "python",
   "nbconvert_exporter": "python",
   "pygments_lexer": "ipython2",
   "version": "2.7.12"
  }
 },
 "nbformat": 4,
 "nbformat_minor": 2
}
