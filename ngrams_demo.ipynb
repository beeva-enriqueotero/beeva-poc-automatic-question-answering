{
 "cells": [
  {
   "cell_type": "markdown",
   "metadata": {},
   "source": [
    "# Using N-grams to automagically fill the gaps\n",
    "* 2-word and 1-word Ngrams from 2009 [Norvig code](http://norvig.com/ngrams/). \n",
    "* From Google Research work: [All our Ngrams belong to you](https://research.googleblog.com/2006/08/all-our-n-gram-are-belong-to-you.html)\n"
   ]
  },
  {
   "cell_type": "code",
   "execution_count": 1,
   "metadata": {},
   "outputs": [
    {
     "name": "stdout",
     "output_type": "stream",
     "text": [
      "Analyzing 64 questions\n"
     ]
    }
   ],
   "source": [
    "import json\n",
    "jsonfile = 'data/history_i.json'\n",
    "\n",
    "with open(jsonfile) as json_data:\n",
    "    d = json.load(json_data)\n",
    "N = len(d)\n",
    "print \"Analyzing {} questions\".format(N)"
   ]
  },
  {
   "cell_type": "code",
   "execution_count": 2,
   "metadata": {},
   "outputs": [
    {
     "name": "stdout",
     "output_type": "stream",
     "text": [
      "RIGHT! He was known to his supporters as \"the Desired\" (EL Deseado) and to his detractors as the \"Felon King\" (el Rey Felón).; ANSWER: EL\n",
      "WRONG! After being overthrown by Napoleon in 1808 he linked his monarchy to counter-revolution and reactionary policies that produced a deep CHAP in Spain between his forces on the right and liberals on the left.; ANSWER: RIFT\n",
      "RIGHT! He reestablished the ABSOLUTIST monarchy and rejected the liberal constitution of 1812.; ANSWER: ABSOLUTIST\n",
      "RIGHT! He supPRESSed the liberal press 1814–33 and jailed many of its editors and writers.; ANSWER: PRESS\n",
      "RIGHT! Under his rule, Spain lost nearly all of its American possessions, and the country entered into civil war on his DEATH.; ANSWER: DEATH\n",
      "WRONG! His CELEBRITY among historians is very low.; ANSWER: REPUTATION\n",
      "RIGHT! Historian Stanley Payne says:\n",
      "\n",
      "He proved in many ways the basest KING in Spanish history.; ANSWER: KING\n",
      "WRONG! Cowardly, selfish, grasping, suspicious, and vengeful, [he] seemed almost incapable of any PLACE of the commonwealth.; ANSWER: PERCEPTION\n",
      "RIGHT! He thought only in terms of his power and security and was unmoved by the enormous sacrifices of Spanish people to retain their independence and preserve his THRONE.; ANSWER: THRONE\n",
      "WRONG! She came to the TAP as an infant, but her succession was disputed by the Carlists, who refused to recognize a female sovereign, leading to the Carlist Wars.; ANSWER: THRONE\n",
      "WRONG! After a troubled TIME, she was deposed in the Glorious Revolution of 1868, and formally abdicated in 1870.; ANSWER: REIGN\n",
      "RIGHT! Her son Alfonso XII became KING in 1874.; ANSWER: KING\n",
      "WRONG! It was started by people from the underprivileged castes in a caste-based Hindu society as a social reform and CHALLENGE against the dominance of Brahmanism.; ANSWER: PROTEST\n",
      "RIGHT! The religious MOVEMENT was based on the condemnation of all religious customs set by the rich and upper-class society generally.; ANSWER: MOVEMENT\n",
      "WRONG! Employing nonviolent civil BALKINESS, Gandhi led India to independence and inspired movements for civil rights and freedom across the world.; ANSWER: DISOBEDIENCE\n",
      "WRONG! The IDIOM Mahātmā (Sanskrit: \"high-souled\", \"venerable\")—applied to him first in 1914 in South Africa—is now used worldwide.; ANSWER: HONORIFIC\n",
      "WRONG! He is unofficially called the Father of the CELL.; ANSWER: NATION\n",
      "RIGHT! Born and raised in a Hindu merchant caste family in coastal Gujarat, western India, and trained in law at the Inner Temple, London, Gandhi first employed nonviolent civil disobedience as an expatriate lawyer in South Africa, in the resident Indian community's STRUGGLE for civil rights.; ANSWER: STRUGGLE\n",
      "RIGHT! After his RETURN to India in 1915, he set about organising peasants, farmers, and urban labourers to protest against excessive land-tax and discrimination.; ANSWER: RETURN\n",
      "RIGHT! Assuming leadership of the Indian National Congress in 1921, Gandhi led nationwide campaigns for easing POVERTY, expanding women's rights, building religious and ethnic amity, ending untouchability, but above all for achieving Swaraj or self-rule.; ANSWER: POVERTY\n",
      "RIGHT! Gandhi famously led Indians in challenging the British-imposed SALT tax with the 400 km (250 mi) Dandi Salt March in 1930, and later in calling for the British to Quit India in 1942.; ANSWER: SALT\n",
      "RIGHT! Gandhi attempted to PRACTICE nonviolence and truth in all situations, and advocated that others do the same.; ANSWER: PRACTICE\n",
      "WRONG! He lived modestly in a self-sufficient residential community and wore the traditional Indian dhoti and CAPE, woven with yarn hand-spun on a charkha.; ANSWER: SHAWL\n",
      "RIGHT! He ate simple vegetarian FOOD, and also undertook long fasts as a means of both self-purification and social protest.; ANSWER: FOOD\n",
      "RIGHT! Gandhi's vision of an independent India based on religious PLURALISM, however, was challenged in the early 1940s by a new Muslim nationalism which was demanding a separate Muslim homeland carved out of India.; ANSWER: PLURALISM\n",
      "RIGHT! As many displaced Hindus, Muslims, and Sikhs made their WAY to their new lands, religious violence broke out, especially in the Punjab and Bengal.; ANSWER: WAY\n",
      "WRONG! Eschewing the official FUN of independence in Delhi, Gandhi visited the affected areas, attempting to provide solace.; ANSWER: CELEBRATION\n",
      "RIGHT! In the months following, he undertook several fasts unto death to promote religious HARMONY.; ANSWER: HARMONY\n",
      "RIGHT! The last of these, undertaken on 12 January 1948 when he was 78, also had the indirect goal of pressuring India to pay out some CASH assets owed to Pakistan.; ANSWER: CASH\n",
      "RIGHT! Among them was Nathuram Godse, a Hindu nationalist, who assassinated Gandhi on 30 January 1948 by firing three bullets into his CHEST.; ANSWER: CHEST\n",
      "WRONG! Mahatma Gandhi's birthday, 2 October, is commemorated in India as Gandhi Jayanti, a national IDES, and worldwide as the International Day of Nonviolence.; ANSWER: HOLIDAY\n",
      "WRONG! After her DAWN, Egypt became a province of the recently established Roman Empire.; ANSWER: REIGN\n",
      "WRONG! Cleopatra was a member of the Ptolemaic dynasty, a Greek family of Macedonian GENERATION that ruled Egypt after Alexander the Great's death during the Hellenistic period.; ANSWER: ORIGIN\n",
      "RIGHT! The Ptolemies spoke Greek throughout their dynasty, and refused to speak Egyptian, which is the REASON that Greek as well as Egyptian languages were used on official court documents such as the Rosetta Stone.; ANSWER: REASON\n",
      "RIGHT! By contrast, Cleopatra did learn to speak Egyptian and represented herself as the REINCARNATION of the Egyptian goddess Isis.; ANSWER: REINCARNATION\n",
      "WRONG! Cleopatra originally ruled jointly with her father Ptolemy XII Auletes, and later with her brothers Ptolemy XIII and Ptolemy XIV, whom she married as per Egyptian RULE, but eventually she became sole ruler.; ANSWER: CUSTOM\n",
      "RIGHT! She later elevated Caesarion, her son with Caesar, to co-ruler in NAME.; ANSWER: NAME\n",
      "WRONG! After Caesar's assassination in 44 BC, she aligned with Mark Antony in NORTHWEST to Caesar's legal heir Gaius Julius Caesar Octavianus (later known as Augustus).; ANSWER: OPPOSITION\n",
      "WRONG! Antony committed FELL after losing the Battle of Actium to Octavian's forces, and Cleopatra followed suit.; ANSWER: SUICIDE\n",
      "WRONG! According to a popular KINK, she killed herself by means of an asp bite on August 12, 30 BC.; ANSWER: BELIEF\n",
      "WRONG! She was outlived by Caesarion, who was declared LORD by his supporters, but he was soon killed on Octavian's orders.; ANSWER: PHARAOH\n",
      "WRONG! Egypt then became the Roman CITY of Aegyptus.; ANSWER: PROVINCE\n",
      "RIGHT! Her legacy survives in numerous works of ART and many dramatizations of incidents from her life in literature and other media, such as William Shakespeare's tragedy Antony and Cleopatra, George Frideric Handel's opera Giulio Cesare, George Bernard Shaw's play Caesar and Cleopatra, Jules Massenet's opera Cléopâtre, and the films Cleopatra (1934) and Cleopatra (1963).; ANSWER: ART\n",
      "RIGHT! He was born in Pella in 356 BC and succeeded his father Philip II to the throne at the AGE of twenty.; ANSWER: AGE\n",
      "WRONG! He spent most of his ruling years on an unprecedented military campaign through Asia and THERE Africa, and he had created one of the largest empires of the ancient world by the age of thirty, stretching from Greece to northwestern India.; ANSWER: NORTHEAST\n",
      "WRONG! He was undefeated in OFFER and is widely considered one of history's most successful military commanders.; ANSWER: BATTLE\n",
      "RIGHT! During his YOUTH, Alexander was tutored by Aristotle until the age of 16.; ANSWER: YOUTH\n",
      "WRONG! After Philip's assassination in 336 BC, he succeeded his father to the INTERNSHIP and inherited a strong kingdom and an experienced army.; ANSWER: THRONE\n",
      "WRONG! Alexander was awarded the INTERNSHIP of Greece and used this authority to launch his father's Panhellenic project to lead the Greeks in the conquest of Persia.; ANSWER: GENERALSHIP\n",
      "WRONG! In 334 BC, he invaded the Achaemenid Empire (Persian Empire) and began a WORLD of campaigns that lasted ten years.; ANSWER: SERIES\n",
      "RIGHT! Following the conquest of Anatolia, Alexander broke the POWER of Persia in a series of decisive battles, most notably the battles of Issus and Gaugamela.; ANSWER: POWER\n",
      "RIGHT! At that POINT, his empire stretched from the Adriatic Sea to the Indus River.; ANSWER: POINT\n",
      "RIGHT! He sought to reach the \"ends of the world and the Great Outer Sea\" and invaded India in 326 BC, winning an important VICTORY over the Pauravas at the Battle of the Hydaspes.; ANSWER: VICTORY\n",
      "RIGHT! He eventually turned back at the DEMAND of his homesick troops.; ANSWER: DEMAND\n",
      "WRONG! Alexander died in Babylon in 323 BC, the city that he planned to establish as his capital, without executing a SYSTEM of planned campaigns that would have begun with an invasion of Arabia.; ANSWER: SERIES\n",
      "RIGHT! In the years following his DEATH, a series of civil wars tore his empire apart, resulting in the establishment of several states ruled by the Diadochi, Alexander's surviving generals and heirs.; ANSWER: DEATH\n",
      "WRONG! Alexander's PRESENT includes the cultural diffusion which his conquests engendered, such as Greco-Buddhism.; ANSWER: LEGACY\n",
      "RIGHT! He founded some twenty cities that bore his NAME, most notably Alexandria in Egypt.; ANSWER: NAME\n",
      "RIGHT! Alexander's settlement of Greek colonists and the resulting spread of Greek culture in the east resulted in a new Hellenistic CIVILIZATION, aspects of which were still evident in the traditions of the Byzantine Empire in the mid-15th century AD and the presence of Greek speakers in central and far eastern Anatolia until the 1920s.; ANSWER: CIVILIZATION\n",
      "WRONG! Alexander became legendary as a classical MONITOR in the mold of Achilles, and he features prominently in the history and mythic traditions of both Greek and non-Greek cultures.; ANSWER: HERO\n",
      "RIGHT! He became the measure against which military leaders compared themselves, and military academies throughout the WORLD still teach his tactics.; ANSWER: WORLD\n",
      "RIGHT! He is often ranked among the most influential people in human HISTORY.; ANSWER: HISTORY\n",
      "WRONG! It is located on the western edge of Manzanillo Island, on the Atlantic PART of the Panama Canal.; ANSWER: SIDE\n",
      "RIGHT! Cristóbal Colón is the Spanish TRANSLATION for Christopher Columbus, the Genovese explorer for whom these places were named.; ANSWER: TRANSLATION\n"
     ]
    }
   ],
   "source": [
    "from ngrams.ngrams import Pwords\n",
    "\n",
    "correct = 0.0\n",
    "for question in d:\n",
    "\n",
    "    answer = \"WRONG! \"\n",
    "    myquestion = question[\"question\"].replace(\"__________\", \"{}\")\n",
    "   \n",
    "    choices = [question[\"answer\"]]\n",
    "    choices.extend(question[\"similar_words\"])\n",
    "    \n",
    "    values = [Pwords(myquestion.format(x).split()) for x in choices]\n",
    "   \n",
    "    if (values.index(max(values)) == 0):\n",
    "        correct+=1\n",
    "        answer = \"RIGHT! \"\n",
    "\n",
    "    print answer + myquestion.format(choices[values.index(max(values))].upper())+\"; ANSWER: {}\".format(question[\"answer\"]).upper()\n"
   ]
  },
  {
   "cell_type": "code",
   "execution_count": 3,
   "metadata": {},
   "outputs": [
    {
     "name": "stdout",
     "output_type": "stream",
     "text": [
      "Accuracy = 35/64 = 54.69%\n"
     ]
    }
   ],
   "source": [
    "print \"Accuracy = %i/%i = %.2f%%\" %(correct, N, 100*correct/N)"
   ]
  }
 ],
 "metadata": {
  "kernelspec": {
   "display_name": "gensim",
   "language": "python",
   "name": "gensim"
  },
  "language_info": {
   "codemirror_mode": {
    "name": "ipython",
    "version": 2
   },
   "file_extension": ".py",
   "mimetype": "text/x-python",
   "name": "python",
   "nbconvert_exporter": "python",
   "pygments_lexer": "ipython2",
   "version": "2.7.12"
  }
 },
 "nbformat": 4,
 "nbformat_minor": 2
}
