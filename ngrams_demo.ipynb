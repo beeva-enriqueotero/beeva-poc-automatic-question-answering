{
 "cells": [
  {
   "cell_type": "markdown",
   "metadata": {},
   "source": [
    "# Using N-grams to automagically fill the gaps\n",
    "* 2-word and 1-word Ngrams from 2009 [Norvig code](http://norvig.com/ngrams/). \n",
    "* From Google Research work: [All our Ngrams belong to you](https://research.googleblog.com/2006/08/all-our-n-gram-are-belong-to-you.html)\n"
   ]
  },
  {
   "cell_type": "markdown",
   "metadata": {},
   "source": [
    "### Experiment 1: Test with questions about historical characters: \n",
    "Generated with:\n",
    "```\n",
    "wikitrivia --lang en 'Fernando VII' 'Isabella II of Spain' 'Mahoma' 'Gandhi' 'Cleopatra' 'Alexander the great' 'Cristobal Columbus'\n",
    "```"
   ]
  },
  {
   "cell_type": "code",
   "execution_count": 1,
   "metadata": {},
   "outputs": [
    {
     "name": "stdout",
     "output_type": "stream",
     "text": [
      "Analyzing 64 questions\n"
     ]
    }
   ],
   "source": [
    "import json\n",
    "jsonfile = 'data/history_i.json'\n",
    "\n",
    "def json_to_dict(filename):\n",
    "    with open(filename) as json_data:\n",
    "        d = json.load(json_data)\n",
    "    return d\n",
    "\n",
    "d = json_to_dict(jsonfile)\n",
    "N = len(d)\n",
    "print \"Analyzing {} questions\".format(N)"
   ]
  },
  {
   "cell_type": "code",
   "execution_count": 2,
   "metadata": {},
   "outputs": [
    {
     "name": "stdout",
     "output_type": "stream",
     "text": [
      "Example: RIGHT! Cristóbal Colón is the Spanish TRANSLATION for Christopher Columbus, the Genovese explorer for whom these places were named.\n",
      "Choices: ['translation', 'organification', 'locomotion', 'folding', 'rotation']\n"
     ]
    }
   ],
   "source": [
    "from ngrams.ngrams import Pwords\n",
    "from random import shuffle\n",
    "\n",
    "def get_correct_answers(d):\n",
    "    correct = 0.0\n",
    "    for question in d:\n",
    "\n",
    "        answer = \"WRONG! \"\n",
    "        myquestion = question[\"question\"].replace(\"__________\", \"{}\")\n",
    "   \n",
    "        choices = [question[\"answer\"]]\n",
    "        choices.extend(question[\"similar_words\"])\n",
    "    \n",
    "        values = [Pwords(myquestion.format(x).split()) for x in choices]\n",
    "   \n",
    "        if (values.index(max(values)) == 0):\n",
    "            correct+=1\n",
    "            answer = \"RIGHT! \"\n",
    "\n",
    "    print \"Example: \" + answer + myquestion.format(choices[values.index(max(values))].upper())\n",
    "    print \"Choices: {}\".format(map(str,choices))\n",
    "    \n",
    "    return correct\n",
    "\n",
    "correct = get_correct_answers(d)"
   ]
  },
  {
   "cell_type": "code",
   "execution_count": 3,
   "metadata": {},
   "outputs": [
    {
     "name": "stdout",
     "output_type": "stream",
     "text": [
      "Accuracy = 35/64 = 54.69%\n"
     ]
    }
   ],
   "source": [
    "print \"Accuracy = %i/%i = %.2f%%\" %(correct, N, 100*correct/N)"
   ]
  },
  {
   "cell_type": "markdown",
   "metadata": {},
   "source": [
    "### Experiment 2: Test with questions about recent characters. Main facts after 2009 \n",
    "Generated with:\n",
    "```\n",
    "wikitrivia --lang en 'Donald Trump' 'Ban ki-moon' 'Emmanuel Macron' 'Nicolas Maduro' 'Edward Snowden' 'Kim jong un' 'Jean Claude Juncker'\n",
    "```"
   ]
  },
  {
   "cell_type": "code",
   "execution_count": 4,
   "metadata": {},
   "outputs": [
    {
     "name": "stdout",
     "output_type": "stream",
     "text": [
      "Analyzing 65 questions\n",
      "Example: WRONG! During his SERVICE, Britain voted to leave the European Union in 2016.\n",
      "Choices: ['leadership', 'education', 'service', 'organization', 'continuance']\n",
      "Accuracy = 32/65 = 49.23%\n"
     ]
    }
   ],
   "source": [
    "jsonfile = 'data/history_ii.json'\n",
    "d = json_to_dict(jsonfile)\n",
    "N = len(d)\n",
    "print \"Analyzing {} questions\".format(N)\n",
    "\n",
    "correct = get_correct_answers(d)\n",
    "\n",
    "print \"Accuracy = %i/%i = %.2f%%\" %(correct, N, 100*correct/N)"
   ]
  },
  {
   "cell_type": "code",
   "execution_count": null,
   "metadata": {
    "collapsed": true
   },
   "outputs": [],
   "source": []
  }
 ],
 "metadata": {
  "kernelspec": {
   "display_name": "gensim",
   "language": "python",
   "name": "gensim"
  },
  "language_info": {
   "codemirror_mode": {
    "name": "ipython",
    "version": 2
   },
   "file_extension": ".py",
   "mimetype": "text/x-python",
   "name": "python",
   "nbconvert_exporter": "python",
   "pygments_lexer": "ipython2",
   "version": "2.7.12"
  }
 },
 "nbformat": 4,
 "nbformat_minor": 2
}
